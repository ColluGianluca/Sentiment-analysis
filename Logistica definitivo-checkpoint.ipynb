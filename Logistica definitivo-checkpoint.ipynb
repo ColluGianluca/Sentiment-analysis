{
 "cells": [
  {
   "cell_type": "code",
   "execution_count": 188,
   "id": "0a2e7aaf",
   "metadata": {},
   "outputs": [
    {
     "data": {
      "text/html": [
       "\n",
       "            <div>\n",
       "                <p><b>SparkSession - in-memory</b></p>\n",
       "                \n",
       "        <div>\n",
       "            <p><b>SparkContext</b></p>\n",
       "\n",
       "            <p><a href=\"http://LAPTOP-UE0CA24L.station:4040\">Spark UI</a></p>\n",
       "\n",
       "            <dl>\n",
       "              <dt>Version</dt>\n",
       "                <dd><code>v3.2.1</code></dd>\n",
       "              <dt>Master</dt>\n",
       "                <dd><code>local[*]</code></dd>\n",
       "              <dt>AppName</dt>\n",
       "                <dd><code>Classificazione</code></dd>\n",
       "            </dl>\n",
       "        </div>\n",
       "        \n",
       "            </div>\n",
       "        "
      ],
      "text/plain": [
       "<pyspark.sql.session.SparkSession at 0x1c41f85aca0>"
      ]
     },
     "execution_count": 188,
     "metadata": {},
     "output_type": "execute_result"
    }
   ],
   "source": [
    "import findspark ; findspark.init()\n",
    "import pyspark\n",
    "from pyspark.sql import SparkSession\n",
    "spark = SparkSession.builder.appName(\"Classificazione\").getOrCreate()\n",
    "\n",
    "spark"
   ]
  },
  {
   "cell_type": "code",
   "execution_count": 189,
   "id": "aec11fd9",
   "metadata": {},
   "outputs": [],
   "source": [
    "from pyspark.ml.evaluation import MulticlassClassificationEvaluator as Tester\n",
    "import os\n",
    "from pyspark.sql.types import DoubleType\n",
    "from pyspark.sql.functions import col, explode, array, lit\n",
    "from pyspark.ml.feature import StringIndexer,MinMaxScaler,VectorAssembler\n",
    "from pyspark.ml.evaluation import BinaryClassificationEvaluator as BinaryEvaluator\n",
    "from pyspark.ml import Pipeline\n",
    "from pyspark.ml.classification import LogisticRegression as LogisticRegressor\n",
    "from pyspark.ml.classification import RandomForestClassifier as RF,NaiveBayes,LinearSVC,MultilayerPerceptronClassifier\n",
    "from pyspark.ml.evaluation import MulticlassClassificationEvaluator as Tester\n",
    "from pyspark.ml.evaluation import MulticlassClassificationEvaluator"
   ]
  },
  {
   "cell_type": "code",
   "execution_count": 190,
   "id": "533b282e",
   "metadata": {},
   "outputs": [],
   "source": [
    "dname = 'salary.csv'"
   ]
  },
  {
   "cell_type": "code",
   "execution_count": 191,
   "id": "444f0823",
   "metadata": {},
   "outputs": [],
   "source": [
    "biglab = os.environ['BIGLAB'] ; datapath = os.path.join(biglab,\"datasets\")"
   ]
  },
  {
   "cell_type": "code",
   "execution_count": 192,
   "id": "b4be2270",
   "metadata": {},
   "outputs": [],
   "source": [
    "df = spark.read.csv(os.path.join(datapath,dname), header=True, inferSchema=True)"
   ]
  },
  {
   "cell_type": "code",
   "execution_count": 193,
   "id": "99d019a2",
   "metadata": {},
   "outputs": [
    {
     "data": {
      "text/plain": [
       "32561"
      ]
     },
     "execution_count": 193,
     "metadata": {},
     "output_type": "execute_result"
    }
   ],
   "source": [
    "df.count()"
   ]
  },
  {
   "cell_type": "code",
   "execution_count": 194,
   "id": "8f2ea724",
   "metadata": {},
   "outputs": [
    {
     "data": {
      "text/plain": [
       "32561"
      ]
     },
     "execution_count": 194,
     "metadata": {},
     "output_type": "execute_result"
    }
   ],
   "source": [
    "df.dropna()\n",
    "df.count()"
   ]
  },
  {
   "cell_type": "code",
   "execution_count": 195,
   "id": "503c900a",
   "metadata": {},
   "outputs": [
    {
     "name": "stdout",
     "output_type": "stream",
     "text": [
      "+---+-----------------+------+----------+-------------+-------------------+------------------+--------------+------+-------+------------+------------+--------------+--------------+------+\n",
      "|age|        workclass|fnlwgt| education|education-num|     marital-status|        occupation|  relationship|  race|    sex|capital-gain|capital-loss|hours-per-week|native-country|salary|\n",
      "+---+-----------------+------+----------+-------------+-------------------+------------------+--------------+------+-------+------------+------------+--------------+--------------+------+\n",
      "| 39|        State-gov| 77516| Bachelors|           13|      Never-married|      Adm-clerical| Not-in-family| White|   Male|        2174|           0|            40| United-States| <=50K|\n",
      "| 50| Self-emp-not-inc| 83311| Bachelors|           13| Married-civ-spouse|   Exec-managerial|       Husband| White|   Male|           0|           0|            13| United-States| <=50K|\n",
      "| 38|          Private|215646|   HS-grad|            9|           Divorced| Handlers-cleaners| Not-in-family| White|   Male|           0|           0|            40| United-States| <=50K|\n",
      "| 53|          Private|234721|      11th|            7| Married-civ-spouse| Handlers-cleaners|       Husband| Black|   Male|           0|           0|            40| United-States| <=50K|\n",
      "| 28|          Private|338409| Bachelors|           13| Married-civ-spouse|    Prof-specialty|          Wife| Black| Female|           0|           0|            40|          Cuba| <=50K|\n",
      "+---+-----------------+------+----------+-------------+-------------------+------------------+--------------+------+-------+------------+------------+--------------+--------------+------+\n",
      "only showing top 5 rows\n",
      "\n"
     ]
    }
   ],
   "source": [
    "df.show(5)"
   ]
  },
  {
   "cell_type": "code",
   "execution_count": 196,
   "id": "7904a6c0",
   "metadata": {
    "scrolled": true
   },
   "outputs": [
    {
     "name": "stdout",
     "output_type": "stream",
     "text": [
      "root\n",
      " |-- age: integer (nullable = true)\n",
      " |-- workclass: string (nullable = true)\n",
      " |-- fnlwgt: integer (nullable = true)\n",
      " |-- education: string (nullable = true)\n",
      " |-- education-num: integer (nullable = true)\n",
      " |-- marital-status: string (nullable = true)\n",
      " |-- occupation: string (nullable = true)\n",
      " |-- relationship: string (nullable = true)\n",
      " |-- race: string (nullable = true)\n",
      " |-- sex: string (nullable = true)\n",
      " |-- capital-gain: integer (nullable = true)\n",
      " |-- capital-loss: integer (nullable = true)\n",
      " |-- hours-per-week: integer (nullable = true)\n",
      " |-- native-country: string (nullable = true)\n",
      " |-- salary: string (nullable = true)\n",
      "\n"
     ]
    }
   ],
   "source": [
    "df.printSchema()"
   ]
  },
  {
   "cell_type": "markdown",
   "id": "29cfecd7",
   "metadata": {},
   "source": [
    "## PREPARIAMO PER L'INDEX\n",
    "\n",
    "#### creiamo due variabili, una con le colonne da indicizzare, la seconda con il nome delle variabili indicizzate.   Successivamente le utilizziamo i per crearci la variabile \"features\" da inserire nell'assembler"
   ]
  },
  {
   "cell_type": "code",
   "execution_count": 197,
   "id": "805a382d",
   "metadata": {},
   "outputs": [],
   "source": [
    "variables_to_index = [col for col in list(set(df.columns)) if\n",
    "                  dict(df.dtypes)[col] == \"string\"]\n",
    "variables_indexed=[col+'_I' for col in list(set(df.columns)) if\n",
    "                  dict(df.dtypes)[col] == \"string\" and col!='salary']"
   ]
  },
  {
   "cell_type": "code",
   "execution_count": 198,
   "id": "5f87ac58",
   "metadata": {},
   "outputs": [],
   "source": [
    "numeric_columns = [col for col in df.columns if col not in variables_to_index]\n",
    "features = variables_indexed + numeric_columns"
   ]
  },
  {
   "cell_type": "markdown",
   "id": "dde04b87",
   "metadata": {},
   "source": [
    "## DEFINIAMO LA PIPELINE"
   ]
  },
  {
   "cell_type": "code",
   "execution_count": 199,
   "id": "72796aca",
   "metadata": {},
   "outputs": [],
   "source": [
    "Indexed=StringIndexer(inputCols=variables_to_index, outputCols=[col + \"_I\" for col in variables_to_index])"
   ]
  },
  {
   "cell_type": "code",
   "execution_count": 200,
   "id": "8d8993ae",
   "metadata": {},
   "outputs": [],
   "source": [
    "assembler= VectorAssembler(inputCols= features,outputCol='features')"
   ]
  },
  {
   "cell_type": "code",
   "execution_count": 201,
   "id": "e4972550",
   "metadata": {},
   "outputs": [],
   "source": [
    "scaler= MinMaxScaler(inputCol='features',outputCol='scaledFeatures')"
   ]
  },
  {
   "cell_type": "code",
   "execution_count": 202,
   "id": "9aed4f56",
   "metadata": {},
   "outputs": [],
   "source": [
    "pipeline=Pipeline(stages=[Indexed,assembler,scaler])"
   ]
  },
  {
   "cell_type": "code",
   "execution_count": 203,
   "id": "603f6d39",
   "metadata": {},
   "outputs": [],
   "source": [
    "Scaled_data=pipeline.fit(df).transform(df).select('scaledFeatures','salary_I')"
   ]
  },
  {
   "cell_type": "code",
   "execution_count": 204,
   "id": "a0118ffc",
   "metadata": {},
   "outputs": [],
   "source": [
    "Scaled_data=Scaled_data.withColumnRenamed('salary_I','target')"
   ]
  },
  {
   "cell_type": "markdown",
   "id": "973e958f",
   "metadata": {},
   "source": [
    "## SPLIT DATASET IN TRAINING AND TEST"
   ]
  },
  {
   "cell_type": "code",
   "execution_count": 205,
   "id": "95bc41b6",
   "metadata": {},
   "outputs": [],
   "source": [
    "training_set, test_set = Scaled_data.randomSplit([0.7,0.3], seed=0)"
   ]
  },
  {
   "cell_type": "code",
   "execution_count": 206,
   "id": "202be5a2",
   "metadata": {},
   "outputs": [
    {
     "name": "stdout",
     "output_type": "stream",
     "text": [
      "+--------------------+------+\n",
      "|      scaledFeatures|target|\n",
      "+--------------------+------+\n",
      "|(14,[0,1,2,3,4,8,...|   0.0|\n",
      "|(14,[0,1,2,3,4,8,...|   0.0|\n",
      "|(14,[0,1,2,3,4,8,...|   0.0|\n",
      "|(14,[0,1,2,3,4,8,...|   0.0|\n",
      "|(14,[0,1,2,3,4,8,...|   0.0|\n",
      "+--------------------+------+\n",
      "only showing top 5 rows\n",
      "\n"
     ]
    }
   ],
   "source": [
    "training_set.show(5)"
   ]
  },
  {
   "cell_type": "markdown",
   "id": "f4f064ac",
   "metadata": {},
   "source": [
    "## LOGISTIC REGRESSION"
   ]
  },
  {
   "cell_type": "code",
   "execution_count": 207,
   "id": "1651dc03",
   "metadata": {},
   "outputs": [],
   "source": [
    "regressor = LogisticRegressor(featuresCol=\"scaledFeatures\",labelCol='target',threshold=0.27)\n",
    "model = regressor.fit(training_set)\n"
   ]
  },
  {
   "cell_type": "code",
   "execution_count": 208,
   "id": "d9b70648",
   "metadata": {},
   "outputs": [],
   "source": [
    "performance = model.evaluate(test_set)"
   ]
  },
  {
   "cell_type": "code",
   "execution_count": 209,
   "id": "db7f2111",
   "metadata": {},
   "outputs": [
    {
     "name": "stdout",
     "output_type": "stream",
     "text": [
      "+--------------------+------+--------------------+--------------------+----------+\n",
      "|      scaledFeatures|target|       rawPrediction|         probability|prediction|\n",
      "+--------------------+------+--------------------+--------------------+----------+\n",
      "|(14,[0,1,2,3,4,8,...|   0.0|[4.57007365056571...|[0.98974897500791...|       0.0|\n",
      "|(14,[0,1,2,3,4,8,...|   0.0|[6.25892079298582...|[0.99809034422271...|       0.0|\n",
      "|(14,[0,1,2,3,4,9,...|   0.0|[5.2515401661391,...|[0.99478786610651...|       0.0|\n",
      "|(14,[0,1,2,3,5,8,...|   0.0|[6.60602966310936...|[0.99864963579290...|       0.0|\n",
      "|(14,[0,1,2,3,5,9,...|   0.0|[5.01464106847764...|[0.99340378405210...|       0.0|\n",
      "+--------------------+------+--------------------+--------------------+----------+\n",
      "only showing top 5 rows\n",
      "\n"
     ]
    }
   ],
   "source": [
    "performance.predictions.show(5)"
   ]
  },
  {
   "cell_type": "code",
   "execution_count": 210,
   "id": "faeb7a35",
   "metadata": {},
   "outputs": [],
   "source": [
    "predictions = performance.predictions.select('target','prediction')"
   ]
  },
  {
   "cell_type": "code",
   "execution_count": 211,
   "id": "e679b14e",
   "metadata": {},
   "outputs": [],
   "source": [
    "evaluator = BinaryEvaluator(rawPredictionCol='prediction', labelCol='target')"
   ]
  },
  {
   "cell_type": "code",
   "execution_count": 212,
   "id": "afe1ec00",
   "metadata": {},
   "outputs": [],
   "source": [
    "accuracy = evaluator.evaluate(predictions)"
   ]
  },
  {
   "cell_type": "code",
   "execution_count": 213,
   "id": "0415a698",
   "metadata": {},
   "outputs": [
    {
     "name": "stdout",
     "output_type": "stream",
     "text": [
      "Logistic Accuracy: 0.8\n"
     ]
    }
   ],
   "source": [
    "print(f\"Logistic Accuracy: {round(accuracy,2)}\")\n",
    "# senza threshold accuracy al 76.92"
   ]
  },
  {
   "cell_type": "code",
   "execution_count": 214,
   "id": "61396aeb",
   "metadata": {},
   "outputs": [],
   "source": [
    "def confusion_matrix(predictions):\n",
    "\n",
    "  sensitivity=predictions.filter((predictions.target ==0) & (predictions.prediction==0)) # TRUE POSITIVE\n",
    "  false_pos=predictions.filter((predictions.target ==1)& (predictions.prediction==0))    # FALSE POSITIVE\n",
    "  false_neg=predictions.filter((predictions.target ==0)& (predictions.prediction==1))    # FALSE NEGATIVE\n",
    "  specificity=predictions.filter((predictions.target ==1) & (predictions.prediction==1)) # TRUE NEGATIVE\n",
    "\n",
    "  print(f\"Sensitivity: {round(sensitivity.count()/(false_neg.count()+sensitivity.count()),2)}\") # tasso veri positvi predetti\n",
    "  print(f\"Specificity: {round(specificity.count()/(specificity.count()+false_pos.count()),2)}\") # tasso di veri neg. predetti"
   ]
  },
  {
   "cell_type": "code",
   "execution_count": 215,
   "id": "4cdc08d3",
   "metadata": {},
   "outputs": [
    {
     "name": "stdout",
     "output_type": "stream",
     "text": [
      "Sensitivity: 0.82\n",
      "Specificity: 0.78\n"
     ]
    }
   ],
   "source": [
    "confusion_matrix(predictions)"
   ]
  },
  {
   "cell_type": "markdown",
   "id": "7c4c029a",
   "metadata": {},
   "source": [
    "## RANDOM FOREST"
   ]
  },
  {
   "cell_type": "code",
   "execution_count": 216,
   "id": "fae4a205",
   "metadata": {},
   "outputs": [
    {
     "name": "stdout",
     "output_type": "stream",
     "text": [
      "+--------------------+------+--------------------+--------------------+----------+\n",
      "|      scaledFeatures|target|       rawPrediction|         probability|prediction|\n",
      "+--------------------+------+--------------------+--------------------+----------+\n",
      "|(14,[0,1,2,3,4,8,...|   0.0|[19.7001752069805...|[0.98500876034902...|       0.0|\n",
      "|(14,[0,1,2,3,4,8,...|   0.0|[19.9406151079278...|[0.99703075539639...|       0.0|\n",
      "|(14,[0,1,2,3,4,9,...|   0.0|[19.9825531732326...|[0.99912765866163...|       0.0|\n",
      "|(14,[0,1,2,3,5,8,...|   0.0|[19.9808090493495...|[0.99904045246747...|       0.0|\n",
      "|(14,[0,1,2,3,5,9,...|   0.0|[19.9286792033629...|[0.99643396016814...|       0.0|\n",
      "+--------------------+------+--------------------+--------------------+----------+\n",
      "only showing top 5 rows\n",
      "\n",
      "Final accuracy is: 0.849\n"
     ]
    }
   ],
   "source": [
    "classifier = RF(maxDepth=12,numTrees=20,labelCol=\"target\",featuresCol=\"scaledFeatures\")\n",
    "\n",
    "model = classifier.fit(training_set)\n",
    "\n",
    "predictions = model.transform(test_set)\n",
    "predictions.show(5)\n",
    "tester = Tester(predictionCol='prediction', labelCol='target')\n",
    "\n",
    "accuracy = tester.evaluate(predictions)\n",
    "\n",
    "print(f\"Final accuracy is: {accuracy:5.3f}\")"
   ]
  },
  {
   "cell_type": "code",
   "execution_count": 217,
   "id": "45d3cce0",
   "metadata": {},
   "outputs": [
    {
     "name": "stdout",
     "output_type": "stream",
     "text": [
      "Sensitivity: 0.94\n",
      "Specificity: 0.59\n"
     ]
    }
   ],
   "source": [
    "confusion_matrix(predictions) "
   ]
  },
  {
   "cell_type": "markdown",
   "id": "4c1b288d",
   "metadata": {},
   "source": [
    "## SPOSTIAMO IL CONFINE DECISIONALE DEL RANDOM FOREST"
   ]
  },
  {
   "cell_type": "code",
   "execution_count": 218,
   "id": "9b0b2699",
   "metadata": {},
   "outputs": [],
   "source": [
    "probabilities = [row['probability'][0] for row in predictions.collect()]\n",
    "pred_strict = [0 if prob >0.70 else 1 for prob in probabilities]\n",
    "y_true = [row['target'] for row in predictions.collect()]\n",
    "predictions= spark.createDataFrame(zip(pred_strict, y_true), schema=['prediction', 'target'])"
   ]
  },
  {
   "cell_type": "code",
   "execution_count": 219,
   "id": "f2f37233",
   "metadata": {},
   "outputs": [],
   "source": [
    "predictions=predictions.withColumn(\"prediction\", predictions.prediction.cast(DoubleType()))\n",
    "predictions=predictions.withColumn(\"target\", predictions.target.cast(DoubleType()))   "
   ]
  },
  {
   "cell_type": "code",
   "execution_count": 220,
   "id": "28cb0b28",
   "metadata": {},
   "outputs": [
    {
     "name": "stdout",
     "output_type": "stream",
     "text": [
      "Final accuracy is:  0.84\n"
     ]
    }
   ],
   "source": [
    "tester = Tester(predictionCol='prediction', labelCol='target')\n",
    "accuracy = tester.evaluate(predictions)\n",
    "\n",
    "print(f\"Final accuracy is: {accuracy:5.2f}\")"
   ]
  },
  {
   "cell_type": "code",
   "execution_count": 221,
   "id": "aee8e618",
   "metadata": {},
   "outputs": [
    {
     "name": "stdout",
     "output_type": "stream",
     "text": [
      "Sensitivity: 0.83\n",
      "Specificity: 0.81\n"
     ]
    }
   ],
   "source": [
    "confusion_matrix(predictions)    # 0.30== 84  e 82  # 0.35== 88 and 75   # 0.40 == 90 and 71   # 0.45== 92 and 66"
   ]
  },
  {
   "cell_type": "markdown",
   "id": "d9ed8014",
   "metadata": {},
   "source": [
    "## MULTILAYER PERCEPTRON CLASSIFIER"
   ]
  },
  {
   "cell_type": "code",
   "execution_count": 222,
   "id": "698ff0c3",
   "metadata": {},
   "outputs": [],
   "source": [
    "### RESAMPLING DATA\n",
    "\n",
    "major_df = Scaled_data.filter(Scaled_data.target == 0)\n",
    "minor_df = Scaled_data.filter(Scaled_data.target  == 1)\n",
    "oversampled_df = minor_df.withColumn(\"dummy\", explode(array([lit(x) for x in range(0,2)]))).drop('dummy')\n",
    "minor_df.count()\n",
    "oversampled_df.count()\n",
    "## DATASET UNION\n",
    "combined_df = major_df.unionAll(oversampled_df)"
   ]
  },
  {
   "cell_type": "code",
   "execution_count": 223,
   "id": "27edd5ba",
   "metadata": {},
   "outputs": [],
   "source": [
    "training_set_resampled, test_set_resampled = combined_df.randomSplit([0.7,0.3], seed=0)"
   ]
  },
  {
   "cell_type": "code",
   "execution_count": 224,
   "id": "0833c4c8",
   "metadata": {},
   "outputs": [
    {
     "name": "stdout",
     "output_type": "stream",
     "text": [
      "[14, 20, 10, 2]\n"
     ]
    }
   ],
   "source": [
    "layers = [len(features),20,10,2]\n",
    "print(layers)\n",
    "trainer = MultilayerPerceptronClassifier(maxIter=100, layers=layers, blockSize=128, seed=100,\n",
    "                                         labelCol=\"target\",featuresCol=\"scaledFeatures\" )"
   ]
  },
  {
   "cell_type": "code",
   "execution_count": 228,
   "id": "b9918081",
   "metadata": {},
   "outputs": [],
   "source": [
    "model = trainer.fit(training_set_resampled)"
   ]
  },
  {
   "cell_type": "code",
   "execution_count": 232,
   "id": "6482381d",
   "metadata": {},
   "outputs": [
    {
     "name": "stdout",
     "output_type": "stream",
     "text": [
      "Final accuracy is:  0.82\n"
     ]
    }
   ],
   "source": [
    "result = model.transform(test_set_resampled)\n",
    "\n",
    "predictions = result.select(\"prediction\", \"target\")\n",
    "evaluator = MulticlassClassificationEvaluator(labelCol = 'target', predictionCol = 'prediction', metricName = 'accuracy')\n",
    "accuracy = evaluator.evaluate(predictions)\n",
    "\n",
    "print(f\"Final accuracy is: {accuracy:5.2f}\")\n",
    "\n",
    "#print(\"Test set accuracy = \" + str(evaluator.evaluate(predictions)))"
   ]
  },
  {
   "cell_type": "code",
   "execution_count": 230,
   "id": "1e6d5792",
   "metadata": {},
   "outputs": [
    {
     "name": "stdout",
     "output_type": "stream",
     "text": [
      "Sensitivity: 0.84\n",
      "Specificity: 0.78\n"
     ]
    }
   ],
   "source": [
    "confusion_matrix(predictions)   ### SENS:0.94 SPEC: 0.56"
   ]
  },
  {
   "cell_type": "code",
   "execution_count": null,
   "id": "4c7c8140",
   "metadata": {},
   "outputs": [],
   "source": []
  },
  {
   "cell_type": "code",
   "execution_count": null,
   "id": "a11b2506",
   "metadata": {},
   "outputs": [],
   "source": []
  },
  {
   "cell_type": "code",
   "execution_count": null,
   "id": "ef0a163b",
   "metadata": {},
   "outputs": [],
   "source": []
  }
 ],
 "metadata": {
  "kernelspec": {
   "display_name": "Python 3 (ipykernel)",
   "language": "python",
   "name": "python3"
  },
  "language_info": {
   "codemirror_mode": {
    "name": "ipython",
    "version": 3
   },
   "file_extension": ".py",
   "mimetype": "text/x-python",
   "name": "python",
   "nbconvert_exporter": "python",
   "pygments_lexer": "ipython3",
   "version": "3.9.7"
  }
 },
 "nbformat": 4,
 "nbformat_minor": 5
}
